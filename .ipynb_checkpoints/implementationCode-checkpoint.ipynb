{
 "cells": [
  {
   "cell_type": "code",
   "execution_count": 2,
   "metadata": {},
   "outputs": [
    {
     "name": "stderr",
     "output_type": "stream",
     "text": [
      "[nltk_data] Downloading package punkt to\n",
      "[nltk_data]     C:\\Users\\samue\\AppData\\Roaming\\nltk_data...\n",
      "[nltk_data]   Package punkt is already up-to-date!\n"
     ]
    },
    {
     "name": "stdout",
     "output_type": "stream",
     "text": [
      "Tokenized data saved to tokenized_train_gold.json\n"
     ]
    }
   ],
   "source": [
    "import json\n",
    "import nltk\n",
    "from nltk.tokenize import sent_tokenize\n",
    "\n",
    "nltk.download('punkt')\n",
    "\n",
    "def tokenize_sentences(text):\n",
    "    \"\"\"Tokenizes a text string into sentences.\"\"\"\n",
    "    return sent_tokenize(text)\n",
    "\n",
    "def process_json_file(input_file, output_file):\n",
    "    # Load the JSON file\n",
    "    with open(input_file, 'r', encoding='utf-8') as f:\n",
    "        data = json.load(f)\n",
    "    \n",
    "    for key, entry in data.items():\n",
    "        metadata = entry.get(\"metadata\", {})\n",
    "        title = metadata.get(\"title\", \"\")\n",
    "        abstract = metadata.get(\"abstract\", \"\")\n",
    "        \n",
    "        tokenized_title = tokenize_sentences(title)\n",
    "        tokenized_abstract = tokenize_sentences(abstract)\n",
    "        \n",
    "        metadata[\"title_sentences\"] = tokenized_title\n",
    "        metadata[\"abstract_sentences\"] = tokenized_abstract\n",
    "        \n",
    "        entry[\"metadata\"] = metadata\n",
    "    \n",
    "    with open(output_file, 'w', encoding='utf-8') as f:\n",
    "        json.dump(data, f, indent=2, ensure_ascii=False)\n",
    "    \n",
    "    print(f\"Tokenized data saved to {output_file}\")\n",
    "\n",
    "input_file = r'C:\\Users\\samue\\OneDrive\\Desktop\\gutbrainie2025-20250214T081556Z-001\\gutbrainie2025\\Annotations\\Train\\gold_quality\\json_format\\train_gold.json'\n",
    "output_file = 'tokenized_train_gold.json'\n",
    "\n",
    "process_json_file(input_file, output_file)\n"
   ]
  },
  {
   "cell_type": "code",
   "execution_count": null,
   "metadata": {},
   "outputs": [],
   "source": []
  }
 ],
 "metadata": {
  "kernelspec": {
   "display_name": "Python 3 (ipykernel)",
   "language": "python",
   "name": "python3"
  },
  "language_info": {
   "codemirror_mode": {
    "name": "ipython",
    "version": 3
   },
   "file_extension": ".py",
   "mimetype": "text/x-python",
   "name": "python",
   "nbconvert_exporter": "python",
   "pygments_lexer": "ipython3",
   "version": "3.12.4"
  }
 },
 "nbformat": 4,
 "nbformat_minor": 4
}
