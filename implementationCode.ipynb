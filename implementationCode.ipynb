{
 "cells": [
  {
   "cell_type": "code",
   "execution_count": 4,
   "metadata": {},
   "outputs": [
    {
     "name": "stderr",
     "output_type": "stream",
     "text": [
      "[nltk_data] Downloading package punkt to\n",
      "[nltk_data]     C:\\Users\\samue\\AppData\\Roaming\\nltk_data...\n",
      "[nltk_data]   Package punkt is already up-to-date!\n"
     ]
    },
    {
     "name": "stdout",
     "output_type": "stream",
     "text": [
      "Le frasi processate sono state salvate in tokenized_sentences_with_entities.json\n"
     ]
    }
   ],
   "source": [
    "import json\n",
    "import nltk\n",
    "from nltk.tokenize import sent_tokenize\n",
    "\n",
    "# Scarica i dati necessari per il tokenizzatore (se non già presenti)\n",
    "nltk.download('punkt')\n",
    "\n",
    "def process_json_file(input_file, output_file):\n",
    "    # Carica il file JSON di input\n",
    "    with open(input_file, 'r', encoding='utf-8') as f:\n",
    "        data = json.load(f)\n",
    "    \n",
    "    # Lista per accumulare le informazioni a livello di frase\n",
    "    output_sentences = []\n",
    "\n",
    "    # Itera per ogni documento (identificato dal suo pmid)\n",
    "    for paper_id, entry in data.items():\n",
    "        metadata = entry.get(\"metadata\", {})\n",
    "        title = metadata.get(\"title\", \"\")\n",
    "        abstract = metadata.get(\"abstract\", \"\")\n",
    "        \n",
    "        # Combina title e abstract; se preferisci lavorare separatamente, puoi adattare la logica\n",
    "        combined_text = title + \" \" + abstract\n",
    "        \n",
    "        # Effettua la tokenizzazione in frasi\n",
    "        sentences = sent_tokenize(combined_text)\n",
    "        \n",
    "        # Estrai la lista delle entità (i text_span generati dal NER)\n",
    "        ner_entities = entry.get(\"entities\", [])\n",
    "        # Costruiamo una lista di entità (stringhe) da cercare nelle frasi\n",
    "        entity_texts = [ent.get(\"text_span\", \"\") for ent in ner_entities if \"text_span\" in ent]\n",
    "        \n",
    "        # Per ogni frase, controlla quali entità sono presenti\n",
    "        for idx, sentence in enumerate(sentences):\n",
    "            found_entities = []\n",
    "            for ent_text in entity_texts:\n",
    "                # Se l'entità non è vuota e compare nella frase\n",
    "                if ent_text and ent_text in sentence:\n",
    "                    found_entities.append(ent_text)\n",
    "            # Rimuove eventuali duplicati\n",
    "            found_entities = list(set(found_entities))\n",
    "            \n",
    "            # Salva le informazioni della frase nell'output\n",
    "            output_sentences.append({\n",
    "                \"pmid\": paper_id,\n",
    "                \"sent_id\": idx,\n",
    "                \"sentence\": sentence,\n",
    "                \"entities\": found_entities  # lista di entità trovate in questa frase\n",
    "            })\n",
    "    \n",
    "    # Scrive l'output in un file JSON\n",
    "    with open(output_file, 'w', encoding='utf-8') as f:\n",
    "        json.dump(output_sentences, f, indent=2, ensure_ascii=False)\n",
    "    \n",
    "    print(f\"Le frasi processate sono state salvate in {output_file}\")\n",
    "\n",
    "# Imposta i percorsi dei file di input e output\n",
    "input_file = 'train_platinum.json'\n",
    "output_file = 'tokenized_sentences_with_entities.json'\n",
    "\n",
    "process_json_file(input_file, output_file)\n"
   ]
  },
  {
   "cell_type": "code",
   "execution_count": null,
   "metadata": {},
   "outputs": [],
   "source": []
  }
 ],
 "metadata": {
  "kernelspec": {
   "display_name": "Python 3 (ipykernel)",
   "language": "python",
   "name": "python3"
  },
  "language_info": {
   "codemirror_mode": {
    "name": "ipython",
    "version": 3
   },
   "file_extension": ".py",
   "mimetype": "text/x-python",
   "name": "python",
   "nbconvert_exporter": "python",
   "pygments_lexer": "ipython3",
   "version": "3.12.4"
  }
 },
 "nbformat": 4,
 "nbformat_minor": 4
}
